{
 "cells": [
  {
   "cell_type": "code",
   "execution_count": 9,
   "id": "fe4105f8-902d-479a-b652-790fdfd26e14",
   "metadata": {},
   "outputs": [],
   "source": [
    "# get all positions of a char in a word\n",
    "def get_char_positions(word,char):\n",
    "\n",
    "    positions = []\n",
    "    i = 0 \n",
    "    while i < len(word):\n",
    "        if word[i] == char:\n",
    "            positions.append(i)\n",
    "        i+=1\n",
    "    return positions\n",
    "\n",
    "# load list of words from a text file\n",
    "def read_word_list(file_name):\n",
    "    words = []\n",
    "    file_obj = open(\"Wordlist.txt\",\"r\")\n",
    "  \n",
    "    lines = file_obj.readline()\n",
    "    while lines != \"\":\n",
    "        lines = lines.rstrip(\"\\n\")\n",
    "        words.append(lines)\n",
    "        lines = file_obj.readline()\n",
    "        \n",
    "    return words\n",
    "\n",
    "# get all possible templates give the current template and the new guess\n",
    "def get_templates(current_template, letter, word_list):\n",
    "    templates = []\n",
    "    \n",
    "    ct_array = [c for c in current_template]\n",
    "    \n",
    "    for i in range(len(current_template)):\n",
    "        if ct_array[i]== \"-\":\n",
    "            ct_array[i] = letter\n",
    "            templates.append(\"\".join(ct_array))\n",
    "            ct_array[i] = \"-\"\n",
    "    return get_valid_templates(templates, word_list)\n",
    "\n",
    "# Filter out invalid templates (templates that do not have matches in the current word list)\n",
    "def get_valid_templates(possible_templates, word_list):\n",
    "    valid_templates = []\n",
    "    for template in possible_templates:\n",
    "        if len(get_all_matches(word_list, template))>0:\n",
    "            valid_templates.append(template)\n",
    "    return valid_templates;\n",
    "            \n",
    "        \n",
    "# Does the word match the template?\n",
    "def is_match(word, template):\n",
    "    if len(word) != len(template):\n",
    "        return False\n",
    "    for i in range(len(word)):\n",
    "        if template[i] != \"-\":\n",
    "            if word[i] != template[i]:\n",
    "                return False \n",
    "            \n",
    "    return True\n",
    "\n",
    "# Get all words from a list that matches the given template\n",
    "def get_all_matches(word_list, template):\n",
    "    matches = []\n",
    "    for word in word_list:\n",
    "        if is_match(word,template):\n",
    "            matches.append(word)\n",
    "    return matches\n",
    "\n",
    "# determine the template that has the maximum number of matches in the word list\n",
    "def get_best_template(possible_templates, word_list):\n",
    "    indx = 0\n",
    "    max_size = len(get_all_matches(word_list, possible_templates[0]))\n",
    "    for i in range(1,len(possible_templates),1):\n",
    "        current_size = len(get_all_matches(word_list, possible_templates[i]))\n",
    "        if current_size > max_size:\n",
    "            max_size = current_size\n",
    "            indx = i\n",
    "    return possible_templates[indx], get_all_matches(word_list, possible_templates[indx]) \n",
    "\n",
    "# Remove all words containing a given character    \n",
    "def remove_words(word_list, letter):\n",
    "    words_to_keep = []\n",
    "    for word in word_list:\n",
    "        if word.find(letter) < 0:\n",
    "            words_to_keep.append(word)\n",
    "    return words_to_keep\n",
    "            \n",
    "                   "
   ]
  },
  {
   "cell_type": "code",
   "execution_count": 10,
   "id": "3dce9c7a-73e7-4062-9b93-4d2f7d1e5754",
   "metadata": {},
   "outputs": [
    {
     "name": "stdin",
     "output_type": "stream",
     "text": [
      "Please guess a letter for the word (3 guesses left): --- a\n"
     ]
    },
    {
     "name": "stdout",
     "output_type": "stream",
     "text": [
      "possible templates are: ['a--', '-a-', '--a']\n",
      "-a- :  ['cat', 'bat', 'man', 'ban', 'baa']\n"
     ]
    },
    {
     "name": "stdin",
     "output_type": "stream",
     "text": [
      "Please guess a letter for the word (2 guesses left): -a- a\n"
     ]
    },
    {
     "name": "stdout",
     "output_type": "stream",
     "text": [
      "possible templates are: ['-aa']\n",
      "-aa :  ['baa']\n"
     ]
    },
    {
     "name": "stdin",
     "output_type": "stream",
     "text": [
      "Please guess a letter for the word (1 guesses left): -aa b\n"
     ]
    },
    {
     "name": "stdout",
     "output_type": "stream",
     "text": [
      "possible templates are: ['baa']\n",
      "baa :  ['baa']\n",
      "You have guessed  baa  successfully!\n"
     ]
    }
   ],
   "source": [
    "word_list = read_word_list(\"./Wordlist.txt\")\n",
    "k = len(word_list[0])\n",
    "current_template = \"-\"*k\n",
    "\n",
    "current_word_list = word_list\n",
    "for i in range(k):\n",
    "    c = input(\"Please guess a letter for the word (\"+ str(k-i)+ \" guesses left): \" + current_template)\n",
    "    possible_templates = get_templates(current_template, c,current_word_list)\n",
    "    if len(possible_templates) == 0:\n",
    "        print(\"wrong guess!\")\n",
    "    else:\n",
    "        # should we choose the best valid template or keep the current one and remove all words with c?\n",
    "        ct, cwl = get_best_template(possible_templates, current_word_list)\n",
    "        acwl = remove_words(current_word_list, c)\n",
    "        \n",
    "        if len(cwl) > len(acwl):\n",
    "            print(\"possible templates are:\" , possible_templates)\n",
    "            current_template, current_word_list = get_best_template(possible_templates, current_word_list)\n",
    "            print(current_template,\": \", current_word_list)\n",
    "        else:\n",
    "            print(\"wrong guess!\")\n",
    "            current_word_list = acwl\n",
    "if current_template.find(\"-\")<0:\n",
    "    print(\"You have guessed \", current_template, \" successfully!\")\n",
    "            \n",
    "    "
   ]
  },
  {
   "cell_type": "markdown",
   "id": "61acde0c-39a8-4d6f-b125-8a429b012453",
   "metadata": {},
   "source": [
    "## End of code"
   ]
  },
  {
   "cell_type": "code",
   "execution_count": null,
   "id": "20c22266-d22a-4400-9479-ea3267e2a516",
   "metadata": {},
   "outputs": [
    {
     "name": "stdin",
     "output_type": "stream",
     "text": [
      "please enter a word:  aa\n"
     ]
    }
   ],
   "source": [
    "# testing get_char_positions\n",
    "x = str(input(\"please enter a word: \"))\n",
    "y = str(input(\"please enter a letter: \"))\n",
    "ans = get_char_positions(x,y)\n",
    "print(ans)"
   ]
  },
  {
   "cell_type": "code",
   "execution_count": 2,
   "id": "f3befb18-f28c-4af4-a1c3-bed853a93dfa",
   "metadata": {},
   "outputs": [
    {
     "name": "stdout",
     "output_type": "stream",
     "text": [
      "['cat', 'bat', 'man', 'and', 'ban']\n"
     ]
    }
   ],
   "source": [
    "# testing read_word_list\n",
    "word_list = read_word_list(\"./Wordlist.txt\")\n",
    "print(word_list)"
   ]
  },
  {
   "cell_type": "code",
   "execution_count": 19,
   "id": "18e6b5da-c8f0-464f-8853-3db26667d4bc",
   "metadata": {},
   "outputs": [
    {
     "name": "stdout",
     "output_type": "stream",
     "text": [
      "['cat', 'bat', 'man', 'and', 'ban']\n"
     ]
    },
    {
     "data": {
      "text/plain": [
       "['-b-', 'ab-', '-ba']"
      ]
     },
     "execution_count": 19,
     "metadata": {},
     "output_type": "execute_result"
    }
   ],
   "source": [
    "# test get_templates\n",
    "word_list = read_word_list(\"./Wordlist.txt\")\n",
    "print(word_list)\n",
    "k = 3\n",
    "ct = \"-b-\"\n",
    "letter = \"a\"\n",
    "\n",
    "get_templates(ct, letter)"
   ]
  },
  {
   "cell_type": "code",
   "execution_count": 4,
   "id": "e9c21159-f30b-499a-9ac4-675fa8cab2eb",
   "metadata": {},
   "outputs": [
    {
     "data": {
      "text/plain": [
       "False"
      ]
     },
     "execution_count": 4,
     "metadata": {},
     "output_type": "execute_result"
    }
   ],
   "source": [
    "word = \"bot\"\n",
    "k = 3\n",
    "template = \"-a-\"\n",
    "\n",
    "is_match(word,template)\n"
   ]
  },
  {
   "cell_type": "code",
   "execution_count": 7,
   "id": "eef3501e-6bc4-4e9b-9c55-3bfe4146ef74",
   "metadata": {},
   "outputs": [
    {
     "data": {
      "text/plain": [
       "['act']"
      ]
     },
     "execution_count": 7,
     "metadata": {},
     "output_type": "execute_result"
    }
   ],
   "source": [
    "get_all_matches(['bat','cat','act'],'a--')"
   ]
  },
  {
   "cell_type": "code",
   "execution_count": null,
   "id": "664be612-9c3b-4534-a927-e056736afd8c",
   "metadata": {},
   "outputs": [],
   "source": []
  }
 ],
 "metadata": {
  "kernelspec": {
   "display_name": "Python 3 (ipykernel)",
   "language": "python",
   "name": "python3"
  },
  "language_info": {
   "codemirror_mode": {
    "name": "ipython",
    "version": 3
   },
   "file_extension": ".py",
   "mimetype": "text/x-python",
   "name": "python",
   "nbconvert_exporter": "python",
   "pygments_lexer": "ipython3",
   "version": "3.9.7"
  }
 },
 "nbformat": 4,
 "nbformat_minor": 5
}
